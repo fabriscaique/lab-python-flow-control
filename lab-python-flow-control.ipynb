{
 "cells": [
  {
   "cell_type": "markdown",
   "id": "d3bfc191-8885-42ee-b0a0-bbab867c6f9f",
   "metadata": {
    "tags": []
   },
   "source": [
    "# Lab | Flow Control"
   ]
  },
  {
   "cell_type": "markdown",
   "id": "3851fcd1-cf98-4653-9c89-e003b7ec9400",
   "metadata": {},
   "source": [
    "## Exercise: Managing Customer Orders Optimized\n",
    "\n",
    "In the last lab, you were starting an online store that sells various products. To ensure smooth operations, you developed a program that manages customer orders and inventory.\n",
    "\n",
    "You did so without using flow control. Let's go a step further and improve this code.\n",
    "\n",
    "Follow the steps below to complete the exercise:\n",
    "\n",
    "1. Look at your code from the lab data structures, and improve repeated code with loops.\n",
    "\n",
    "2. Instead of asking the user to input the name of three products that a customer wants to order, do the following:\n",
    "    \n",
    "    a. Prompt the user to enter the name of a product that a customer wants to order.\n",
    "    \n",
    "    b. Add the product name to the \"customer_orders\" set.\n",
    "    \n",
    "    c. Ask the user if they want to add another product (yes/no).\n",
    "    \n",
    "    d. Continue the loop until the user does not want to add another product.\n",
    "\n",
    "3. Instead of updating the inventory by subtracting 1 from the quantity of each product, only do it for  the products that were ordered (those in \"customer_orders\")."
   ]
  },
  {
   "cell_type": "code",
   "execution_count": 1,
   "id": "f881ab7d-153f-4327-99ff-76b8c24b1385",
   "metadata": {},
   "outputs": [
    {
     "name": "stdout",
     "output_type": "stream",
     "text": [
      "<class 'list'>\n"
     ]
    }
   ],
   "source": [
    "# Define product list\n",
    "\n",
    "products = [\"t-shirt\", \"mug\", \"hat\", \"book\", \"keychain\"]\n",
    "print(type(products)) # Check variable type"
   ]
  },
  {
   "cell_type": "code",
   "execution_count": 3,
   "id": "340a7d5d-8f5d-4662-9b28-ae1000ce8745",
   "metadata": {},
   "outputs": [
    {
     "name": "stdout",
     "output_type": "stream",
     "text": [
      "<class 'dict'>\n"
     ]
    }
   ],
   "source": [
    "# Create empty dictionary for inventory\n",
    "inventory = {}\n",
    "print(type(inventory))"
   ]
  },
  {
   "cell_type": "code",
   "execution_count": 5,
   "id": "359e8116-d694-4f57-a638-7513aee799a9",
   "metadata": {},
   "outputs": [
    {
     "name": "stdout",
     "output_type": "stream",
     "text": [
      "Please, enter the respective quantity per product in inventory\n"
     ]
    },
    {
     "name": "stdin",
     "output_type": "stream",
     "text": [
      "t-shirt:  10\n",
      "mug:  10\n",
      "hat:  10\n",
      "book:  10\n",
      "keychain:  10\n"
     ]
    },
    {
     "name": "stdout",
     "output_type": "stream",
     "text": [
      "{'t-shirt': 10, 'mug': 10, 'hat': 10, 'book': 10, 'keychain': 10}\n"
     ]
    }
   ],
   "source": [
    "# Prompt user to enter number of items on the inventory, per item\n",
    "print(\"Please, enter the respective quantity per product in inventory\")\n",
    "\n",
    "# Loop to iterate each item in inventory, update dictionary with user count\n",
    "for product in products:\n",
    "    user_count = int(input(f\"{product}: \")) # Store user answer in variable count\n",
    "    inventory.update({product:user_count}) # Add item to inventory with count provided by user as value\n",
    "\n",
    "print(inventory) # Check out everything"
   ]
  },
  {
   "cell_type": "code",
   "execution_count": 7,
   "id": "8eeea352-85df-4822-b308-463a12f72260",
   "metadata": {},
   "outputs": [
    {
     "name": "stdout",
     "output_type": "stream",
     "text": [
      "<class 'list'>\n"
     ]
    }
   ],
   "source": [
    "# Empty set to store customer orders\n",
    "customer_orders = list()\n",
    "print(type(customer_orders))"
   ]
  },
  {
   "cell_type": "code",
   "execution_count": 9,
   "id": "ea9b9bc7-d125-4f79-959f-19ef9f67a78e",
   "metadata": {},
   "outputs": [
    {
     "name": "stdout",
     "output_type": "stream",
     "text": [
      "These are the current items available:\n",
      "\n",
      "t-shirt: 10\n",
      "mug: 10\n",
      "hat: 10\n",
      "book: 10\n",
      "keychain: 10\n",
      "\n",
      "Let's buy stuff!!!\n",
      "\n"
     ]
    },
    {
     "name": "stdin",
     "output_type": "stream",
     "text": [
      "Enter your order:  book\n",
      "Do you want to keep ordering? sure\n",
      "Enter your order:  book\n",
      "Do you want to keep ordering? no\n"
     ]
    }
   ],
   "source": [
    "# User input on customer's order\n",
    "print('These are the current items available:\\n') \n",
    "\n",
    "for key, value in inventory.items(): # Show inventory for reference\n",
    "    print(f'{key}: {value}')\n",
    "\n",
    "print(\"\\nLet's buy stuff!!!\\n\")\n",
    "\n",
    "while True:    # Set loop to accept user input\n",
    "    customer_order = input(\"Enter your order: \") # Store the product ordered in variable\n",
    "    if customer_order in inventory: # Check if product ordered is available\n",
    "        inventory[customer_order] -= 1 # Decrease amount in inventory\n",
    "        customer_orders.append(customer_order) # Add product to customer orders list\n",
    "        customer_answer = input(\"Do you want to keep ordering?\").lower() # Consult user over his/her consumist frenzy\n",
    "    else:\n",
    "        print(\"Item sold out\") # Should user type something that is not in the inventory\n",
    "        \n",
    "    if customer_answer in \"no\":\n",
    "         break # Stop loop when customer answers \"no\""
   ]
  },
  {
   "cell_type": "code",
   "execution_count": 11,
   "id": "72d92da0-9b15-4e14-beab-fb742c3154d6",
   "metadata": {},
   "outputs": [
    {
     "name": "stdout",
     "output_type": "stream",
     "text": [
      "Your order is:\n",
      "book\n",
      "book\n",
      "\n",
      "Total products ordered: 2\n",
      "Percentage of products ordered: 4.17%\n"
     ]
    }
   ],
   "source": [
    "# Order review\n",
    "print('Your order is:') \n",
    "for item in customer_orders: # Iterating through the orders list to print each item\n",
    "    print(item)\n",
    "print() # Clean line to aid readability\n",
    "print(f'Total products ordered: {len(customer_orders)}') # Review order size\n",
    "\n",
    "order_status = round(len(customer_orders) / sum(inventory.values()) * 100, 2) ## Small Isi's intervention ##\n",
    "print(f'Percentage of products ordered: {order_status}%') # How much of the stock is gone with this single order"
   ]
  },
  {
   "cell_type": "code",
   "execution_count": 13,
   "id": "265436c6-ec3c-401a-994c-10e7e8677a79",
   "metadata": {},
   "outputs": [
    {
     "name": "stdout",
     "output_type": "stream",
     "text": [
      "Current inventory is: \n",
      "\n",
      "t-shirt: 10\n",
      "mug: 10\n",
      "hat: 10\n",
      "book: 8\n",
      "keychain: 10\n"
     ]
    }
   ],
   "source": [
    "# Inventory review\n",
    "print('Current inventory is: ')\n",
    "print() # Clean line again because we like reading stuff with little effort\n",
    "\n",
    "for key, value in inventory.items():\n",
    "    print(f'{key}: {value}')"
   ]
  },
  {
   "cell_type": "code",
   "execution_count": null,
   "id": "a0a85e41-b72b-4fae-b445-df9e7840971c",
   "metadata": {},
   "outputs": [],
   "source": []
  }
 ],
 "metadata": {
  "kernelspec": {
   "display_name": "Python 3 (ipykernel)",
   "language": "python",
   "name": "python3"
  },
  "language_info": {
   "codemirror_mode": {
    "name": "ipython",
    "version": 3
   },
   "file_extension": ".py",
   "mimetype": "text/x-python",
   "name": "python",
   "nbconvert_exporter": "python",
   "pygments_lexer": "ipython3",
   "version": "3.12.4"
  }
 },
 "nbformat": 4,
 "nbformat_minor": 5
}
